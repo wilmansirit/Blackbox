{
  "cells": [
    {
      "cell_type": "markdown",
      "metadata": {
        "id": "x6W13g1KE01H"
      },
      "source": [
        "# BLACKBOX\n",
        "### Black Box es una funcionalidad fundamental utilizada para la búsqueda y descubrimiento de productos con potencial de rentabilidad y oportunidades dentro de Amazon. Su propósito principal es ayudar a los vendedores a filtrar grandes cantidades de datos para identificar nichos de mercado y productos que cumplen con criterios específicos.\n",
        "\n"
      ]
    },
    {
      "cell_type": "markdown",
      "metadata": {
        "id": "NEZXagFaHu2j"
      },
      "source": [
        "### Importando librerías requeridas para el análisis"
      ]
    },
    {
      "cell_type": "code",
      "execution_count": 1,
      "metadata": {
        "id": "EHqACkfPEiYr"
      },
      "outputs": [],
      "source": [
        "#%pip install IPython\n",
        "\n",
        "import pandas as pd\n",
        "import plotly.express as px\n",
        "from plotly.subplots import make_subplots\n"
      ]
    },
    {
      "cell_type": "markdown",
      "metadata": {
        "id": "_E5wUcExiLKl"
      },
      "source": [
        "### Archivo"
      ]
    },
    {
      "cell_type": "markdown",
      "metadata": {
        "id": "COleca96HbZQ"
      },
      "source": [
        "### Leer el archivo BLACKBOX"
      ]
    },
    {
      "cell_type": "code",
      "execution_count": 2,
      "metadata": {
        "id": "9Bt3TKpJHqYf"
      },
      "outputs": [],
      "source": [
        "\n",
        "blackbox = pd.read_csv('BLACKBOX.csv')"
      ]
    },
    {
      "cell_type": "code",
      "execution_count": 3,
      "metadata": {
        "id": "M2BB_0ve0xbb"
      },
      "outputs": [],
      "source": [
        "# Solo nos quedamos con las columnas importantes para el análisis\n",
        "\n",
        "df = blackbox.drop(columns=['Image URL', 'BSR', 'UPC', 'GTIN', 'EAN', 'ISBN', 'Subcategory BSR',\n",
        "                            'Price Trend (90 days) (%)', 'Parent Level Sales', 'Sales Trend (90 days) (%)',\n",
        "                            'Seller Country/Region', 'Sales Year Over Year (%)', 'Length', 'Width', 'Height',\n",
        "                            'Weight', 'Storage Fee (Jan - Sep)', 'Storage Fee (Oct - Dec)', 'Best Sales Period',\n",
        "                            'Number of Active Sellers', 'Last Year Sales', 'Number of Images', 'Sales to Reviews'\n",
        "                          ])"
      ]
    },
    {
      "cell_type": "code",
      "execution_count": 4,
      "metadata": {
        "id": "MYOSsQYQKjFj"
      },
      "outputs": [],
      "source": [
        "# Sustituit todos los '-' por cero\n",
        "df = df.replace('-', 0)\n",
        "\n",
        "# Convert 'ASIN Sales' and 'ASIN Revenue' to numeric, coercing errors\n",
        "df['ASIN Sales'] = pd.to_numeric(df['ASIN Sales'], errors='coerce')\n",
        "df['ASIN Revenue'] = pd.to_numeric(df['ASIN Revenue'], errors='coerce')\n",
        "\n",
        "# Eliminamos todos los NaN sustituyéndolos por CERO\n",
        "\n",
        "df['Reviews Rating'] = df['Reviews Rating'].fillna(0)\n",
        "df['Reviews Rating'] = df['Reviews Rating'].astype(float)\n",
        "\n",
        "df['Review Count'] = df['Review Count'].fillna(0)\n",
        "df['Review Count'] = df['Review Count'].astype(int)\n",
        "\n",
        "df['Variation Count'] = df['Variation Count'].fillna(0)\n",
        "df['Variation Count'] = df['Variation Count'].astype(int)\n"
      ]
    },
    {
      "cell_type": "markdown",
      "metadata": {
        "id": "0iIfHhaRNZEQ"
      },
      "source": [
        "### Aplicando los filtros:"
      ]
    },
    {
      "cell_type": "code",
      "execution_count": 5,
      "metadata": {},
      "outputs": [],
      "source": [
        "altea = { \"categories\": [\"Automotive\", \"Beauty & Personal Care\", \"Books\", \"CDs & Vinyl\", \"Cell Phones & Accessories\",\n",
        "                                \"Clothing, Shoes & Jewelry\", \"Electronics\", \"Grocery & Gourmet Food\", \"Health & Household\",\n",
        "                                \"Home & Kitchen\", \"Movies & TV\", \"Office Products\", \"Patio, Lawn & Garden\", \"Sports & Outdoors\",\n",
        "                                \"Tools & Home Improvement\", \"Toys & Games\"],\n",
        "                 \"reviewCountMax\": 250,\n",
        "                 \"reviewRatingMax\": 3.7,\n",
        "                 \"variationCountMax\": 1,\n",
        "                 \"asinSalesMin\": 100,\n",
        "                 \"asinRevenueMin\": 4000,\n",
        "                 \"priceMin\": 25,\n",
        "                 \"priceMax\": 80,\n",
        "                 \"listingAgeMax\": 18,\n",
        "                 \"sizeTier\": [\"Large bulky\", \"Small Standard-Size\", \"Large Standard-Size\"],\n",
        "                 \"fulfillment\": [\"Amazon\", \"FBA\", \"FBM\"] }"
      ]
    },
    {
      "cell_type": "code",
      "execution_count": 6,
      "metadata": {
        "id": "rWiNBoJXPR7z"
      },
      "outputs": [],
      "source": [
        "categories = df['Category'].isin(altea['categories'])\n",
        "reviewCountMax = df['Review Count'] <= altea['reviewCountMax']\n",
        "reviewRatingMax = df['Reviews Rating'] <= altea['reviewRatingMax']\n",
        "variationCountMax = df['Variation Count'] <= altea['variationCountMax']\n",
        "asinSalesMin = df['ASIN Sales'] >= altea['asinSalesMin']\n",
        "asinRevenueMin = df['ASIN Revenue'] >= altea['asinRevenueMin']\n",
        "priceMin = df['Price'] >= altea['priceMin']\n",
        "priceMax = df['Price'] <= altea['priceMax']\n",
        "listingAgeMax = df['Age (Month)'] <= altea['listingAgeMax']\n",
        "sizeTier = df['Size Tier'].isin(altea['sizeTier'])\n",
        "fulfillment = df['Fulfillment'].isin(altea['fulfillment'])\n",
        "\n",
        "# Aplicando los filtros recomendados\n",
        "df_filtrado = df[categories & reviewCountMax & reviewRatingMax & variationCountMax & asinSalesMin &\n",
        "                 asinRevenueMin & priceMin & priceMax & listingAgeMax & sizeTier & fulfillment]"
      ]
    },
    {
      "cell_type": "code",
      "execution_count": 7,
      "metadata": {},
      "outputs": [
        {
          "name": "stdout",
          "output_type": "stream",
          "text": [
            "<class 'pandas.core.frame.DataFrame'>\n",
            "Index: 66 entries, 7 to 188\n",
            "Data columns (total 17 columns):\n",
            " #   Column                Non-Null Count  Dtype  \n",
            "---  ------                --------------  -----  \n",
            " 0   URL                   66 non-null     object \n",
            " 1   ASIN                  66 non-null     object \n",
            " 2   Title                 66 non-null     object \n",
            " 3   Brand                 59 non-null     object \n",
            " 4   Fulfillment           66 non-null     object \n",
            " 5   Category              66 non-null     object \n",
            " 6   Subcategory           43 non-null     object \n",
            " 7   Price                 66 non-null     float64\n",
            " 8   ASIN Sales            66 non-null     int64  \n",
            " 9   Parent Level Revenue  66 non-null     object \n",
            " 10  ASIN Revenue          66 non-null     float64\n",
            " 11  Review Count          66 non-null     int64  \n",
            " 12  Reviews Rating        66 non-null     float64\n",
            " 13  Seller                66 non-null     object \n",
            " 14  Size Tier             66 non-null     object \n",
            " 15  Age (Month)           66 non-null     int64  \n",
            " 16  Variation Count       66 non-null     int64  \n",
            "dtypes: float64(3), int64(4), object(10)\n",
            "memory usage: 9.3+ KB\n"
          ]
        }
      ],
      "source": [
        "df_filtrado.info()"
      ]
    },
    {
      "cell_type": "markdown",
      "metadata": {
        "id": "tShGtmItHzVZ"
      },
      "source": [
        "### Análisis"
      ]
    },
    {
      "cell_type": "code",
      "execution_count": 8,
      "metadata": {
        "cellView": "form",
        "colab": {
          "base_uri": "https://localhost:8080/",
          "height": 542
        },
        "id": "Xw7YAKaC8wAd",
        "outputId": "190afc0b-4b62-4227-ba5d-686076c5f3e9"
      },
      "outputs": [
        {
          "data": {
            "application/vnd.plotly.v1+json": {
              "config": {
                "plotlyServerURL": "https://plot.ly"
              },
              "data": [
                {
                  "customdata": [
                    [
                      "https://amazon.com/dp/166811335X"
                    ],
                    [
                      "https://amazon.com/dp/B000LV6OAI"
                    ],
                    [
                      "https://amazon.com/dp/B0F2P76DSF"
                    ],
                    [
                      "https://amazon.com/dp/B0D342XY7N"
                    ],
                    [
                      "https://amazon.com/dp/B0DPJFY3CM"
                    ],
                    [
                      "https://amazon.com/dp/B0F8LG8STL"
                    ],
                    [
                      "https://amazon.com/dp/B0D5WLZB6X"
                    ],
                    [
                      "https://amazon.com/dp/B06X8ZC9ZH"
                    ],
                    [
                      "https://amazon.com/dp/B0055CP9T0"
                    ],
                    [
                      "https://amazon.com/dp/B0DM1QFGHG"
                    ],
                    [
                      "https://amazon.com/dp/B0BQCC9TVJ"
                    ],
                    [
                      "https://amazon.com/dp/031657323X"
                    ],
                    [
                      "https://amazon.com/dp/B0C24Q3MPB"
                    ],
                    [
                      "https://amazon.com/dp/B07MHQ5FDC"
                    ],
                    [
                      "https://amazon.com/dp/1068756330"
                    ],
                    [
                      "https://amazon.com/dp/B0BN25NR35"
                    ],
                    [
                      "https://amazon.com/dp/B0D5WJNZG9"
                    ],
                    [
                      "https://amazon.com/dp/B0FBPM2P2R"
                    ],
                    [
                      "https://amazon.com/dp/B0074JOD2G"
                    ],
                    [
                      "https://amazon.com/dp/B09JJ9BK2K"
                    ],
                    [
                      "https://amazon.com/dp/1014693071"
                    ],
                    [
                      "https://amazon.com/dp/B09KY9NWBS"
                    ],
                    [
                      "https://amazon.com/dp/B08972CGVQ"
                    ],
                    [
                      "https://amazon.com/dp/B0CTRTX151"
                    ],
                    [
                      "https://amazon.com/dp/B001PPLKQ2"
                    ],
                    [
                      "https://amazon.com/dp/B0DT9ZCYX5"
                    ],
                    [
                      "https://amazon.com/dp/B0F8L4MBQF"
                    ],
                    [
                      "https://amazon.com/dp/B0FFN86JRJ"
                    ],
                    [
                      "https://amazon.com/dp/B0DJ3B49NL"
                    ],
                    [
                      "https://amazon.com/dp/B0FD2J6J4R"
                    ],
                    [
                      "https://amazon.com/dp/B0DKPKLKDV"
                    ],
                    [
                      "https://amazon.com/dp/B0D33ZJ2B2"
                    ],
                    [
                      "https://amazon.com/dp/1441346473"
                    ]
                  ],
                  "hovertemplate": "<b>%{hovertext}</b><br><br>Fulfillment=Amazon<br>ASIN Revenue=%{x}<br>Reviews Rating=%{y}<br>Review Count=%{marker.size}<extra></extra>",
                  "hovertext": [
                    "166811335X",
                    "B000LV6OAI",
                    "B0F2P76DSF",
                    "B0D342XY7N",
                    "B0DPJFY3CM",
                    "B0F8LG8STL",
                    "B0D5WLZB6X",
                    "B06X8ZC9ZH",
                    "B0055CP9T0",
                    "B0DM1QFGHG",
                    "B0BQCC9TVJ",
                    "031657323X",
                    "B0C24Q3MPB",
                    "B07MHQ5FDC",
                    "1068756330",
                    "B0BN25NR35",
                    "B0D5WJNZG9",
                    "B0FBPM2P2R",
                    "B0074JOD2G",
                    "B09JJ9BK2K",
                    "1014693071",
                    "B09KY9NWBS",
                    "B08972CGVQ",
                    "B0CTRTX151",
                    "B001PPLKQ2",
                    "B0DT9ZCYX5",
                    "B0F8L4MBQF",
                    "B0FFN86JRJ",
                    "B0DJ3B49NL",
                    "B0FD2J6J4R",
                    "B0DKPKLKDV",
                    "B0D33ZJ2B2",
                    "1441346473"
                  ],
                  "legendgroup": "Amazon",
                  "marker": {
                    "color": "#FFA15A",
                    "size": {
                      "bdata": "AABtAAAAOAAAAAAAOAAAABYAAQAAAAAAAAAAAAAAGQAAAAAAFAAoAAAADgChAAAAFwAAAAAAAAAAAAAAAQADAAAA",
                      "dtype": "i2"
                    },
                    "sizemode": "area",
                    "sizeref": 1.0925,
                    "symbol": "circle"
                  },
                  "mode": "markers",
                  "name": "Amazon",
                  "orientation": "v",
                  "showlegend": true,
                  "type": "scatter",
                  "x": {
                    "bdata": "SOF6FC4Dt0DD9ShcT8S1QKRwPQoX0bRAPQrXozA5s0C4HoXrEbOxQAAAAABAbbFAXI/C9ehMsUCkcD0KFymxQEjhehTuCbFA4XoUrkfvsEC4HoXrEeywQI/C9Sgc17BACtejcH3UsEBmZmZmpsywQM3MzMyMkbBAzczMzMyGsEDNzMzMzICwQFK4HoUrcrBA9ihcjwI2sEAfhetReDGwQKRwPQqXJLBAzczMzIwjsEAzMzMz8x+wQOF6FK6HErBAAAAAAIALsEBSuB6Fa9qvQB+F61G40a9AmpmZmZnOr0AzMzMzM8uvQDMzMzOzuK9Aj8L1KFykr0AK16NwPXOvQJqZmZkZN69A",
                    "dtype": "f8"
                  },
                  "xaxis": "x",
                  "y": {
                    "bdata": "AAAAAAAAAAAzMzMzMzMLQAAAAAAAAAAAzczMzMzMCEAAAAAAAAAAAAAAAAAAAAAAzczMzMzMDEAAAAAAAAAAAAAAAAAAAAxAAAAAAAAA8D8AAAAAAAAAAAAAAAAAAAAAAAAAAAAAAAAAAAAAAAAAAAAAAAAAAAAAmpmZmZmZDUAAAAAAAAAAAAAAAAAAAAAAmpmZmZmZDUAzMzMzMzMLQAAAAAAAAAAAZmZmZmZmBkCamZmZmZkNQAAAAAAAAAAAAAAAAAAACEAAAAAAAAAAAAAAAAAAAAAAAAAAAAAAAAAAAAAAAAAAAAAAAAAAAAAAAAAAAAAAAEAzMzMzMzMHQAAAAAAAAAAA",
                    "dtype": "f8"
                  },
                  "yaxis": "y"
                },
                {
                  "customdata": [
                    [
                      "https://amazon.com/dp/B001J5CKTE"
                    ],
                    [
                      "https://amazon.com/dp/B0B23LV5Q5"
                    ],
                    [
                      "https://amazon.com/dp/B0081G0X2A"
                    ],
                    [
                      "https://amazon.com/dp/B0F428W2ZQ"
                    ],
                    [
                      "https://amazon.com/dp/B0FF4L834M"
                    ],
                    [
                      "https://amazon.com/dp/B00014W9YA"
                    ],
                    [
                      "https://amazon.com/dp/B06XSMYQD2"
                    ],
                    [
                      "https://amazon.com/dp/B0F7HG117L"
                    ],
                    [
                      "https://amazon.com/dp/B00IBKXTCW"
                    ],
                    [
                      "https://amazon.com/dp/B00C2RHAQQ"
                    ],
                    [
                      "https://amazon.com/dp/B00BDTDWPM"
                    ],
                    [
                      "https://amazon.com/dp/B07K2CCXMF"
                    ],
                    [
                      "https://amazon.com/dp/B0F7X99VXB"
                    ],
                    [
                      "https://amazon.com/dp/B004SUDQ8G"
                    ],
                    [
                      "https://amazon.com/dp/B0BQCSFRS6"
                    ],
                    [
                      "https://amazon.com/dp/B01LTHKMTG"
                    ],
                    [
                      "https://amazon.com/dp/B000IU4DK0"
                    ],
                    [
                      "https://amazon.com/dp/B0FGPJM4XP"
                    ],
                    [
                      "https://amazon.com/dp/B004XZ99TQ"
                    ],
                    [
                      "https://amazon.com/dp/B0FGYHS6FN"
                    ],
                    [
                      "https://amazon.com/dp/B0000CEROF"
                    ],
                    [
                      "https://amazon.com/dp/B0F2YJLQ6C"
                    ],
                    [
                      "https://amazon.com/dp/B0CKZWM62J"
                    ],
                    [
                      "https://amazon.com/dp/B0DK1PCHB6"
                    ],
                    [
                      "https://amazon.com/dp/B0F6CBDY5B"
                    ],
                    [
                      "https://amazon.com/dp/B0DCS84W79"
                    ],
                    [
                      "https://amazon.com/dp/B0F6K8LJJ6"
                    ],
                    [
                      "https://amazon.com/dp/B0002US53W"
                    ],
                    [
                      "https://amazon.com/dp/B0CXB18CQM"
                    ],
                    [
                      "https://amazon.com/dp/B0C6YLK9K9"
                    ],
                    [
                      "https://amazon.com/dp/0842526196"
                    ],
                    [
                      "https://amazon.com/dp/B0F62T4FSS"
                    ],
                    [
                      "https://amazon.com/dp/B004EJTGRG"
                    ],
                    [
                      "https://amazon.com/dp/B0DSKDRKSR"
                    ],
                    [
                      "https://amazon.com/dp/B0CBCHPDP1"
                    ],
                    [
                      "https://amazon.com/dp/1430085312"
                    ],
                    [
                      "https://amazon.com/dp/B0FJ1B1KLV"
                    ],
                    [
                      "https://amazon.com/dp/B004KK3IIC"
                    ],
                    [
                      "https://amazon.com/dp/B0015D20EU"
                    ],
                    [
                      "https://amazon.com/dp/B0F8H6B2WN"
                    ],
                    [
                      "https://amazon.com/dp/B005BAF5U4"
                    ],
                    [
                      "https://amazon.com/dp/B0FFJMXDR7"
                    ],
                    [
                      "https://amazon.com/dp/B005SGZP06"
                    ],
                    [
                      "https://amazon.com/dp/B0FDJPM3BV"
                    ],
                    [
                      "https://amazon.com/dp/B0CGVW41N3"
                    ],
                    [
                      "https://amazon.com/dp/B003OUV1JM"
                    ],
                    [
                      "https://amazon.com/dp/B0DPG2N1VH"
                    ],
                    [
                      "https://amazon.com/dp/B0F9WS8FRM"
                    ],
                    [
                      "https://amazon.com/dp/B00005QCVO"
                    ],
                    [
                      "https://amazon.com/dp/B0CJYJJZC1"
                    ],
                    [
                      "https://amazon.com/dp/B00S2PN0KC"
                    ],
                    [
                      "https://amazon.com/dp/B096VZZ5LY"
                    ],
                    [
                      "https://amazon.com/dp/B0C2YQ5B6F"
                    ],
                    [
                      "https://amazon.com/dp/B000CIWXL4"
                    ],
                    [
                      "https://amazon.com/dp/B0F4XFFGD7"
                    ],
                    [
                      "https://amazon.com/dp/B000XOM7XG"
                    ],
                    [
                      "https://amazon.com/dp/B0BNJHP5YM"
                    ],
                    [
                      "https://amazon.com/dp/B00TGF9EI4"
                    ],
                    [
                      "https://amazon.com/dp/B0FDGZKGDN"
                    ],
                    [
                      "https://amazon.com/dp/B0FCSQN3GB"
                    ],
                    [
                      "https://amazon.com/dp/B0DG5MJDDB"
                    ],
                    [
                      "https://amazon.com/dp/B0D5QMTSG4"
                    ],
                    [
                      "https://amazon.com/dp/B07D2NGJHX"
                    ],
                    [
                      "https://amazon.com/dp/B0F577MQC3"
                    ],
                    [
                      "https://amazon.com/dp/B0C8VCV52S"
                    ],
                    [
                      "https://amazon.com/dp/B0875H3RP3"
                    ],
                    [
                      "https://amazon.com/dp/B0F6MF8R2Q"
                    ],
                    [
                      "https://amazon.com/dp/B019EC9QRM"
                    ],
                    [
                      "https://amazon.com/dp/B0DHWZCKKK"
                    ],
                    [
                      "https://amazon.com/dp/B0FJLVNGGN"
                    ],
                    [
                      "https://amazon.com/dp/B0000CBXZR"
                    ],
                    [
                      "https://amazon.com/dp/B01M7X07WM"
                    ],
                    [
                      "https://amazon.com/dp/B07JWPFT9X"
                    ],
                    [
                      "https://amazon.com/dp/B0FCW68T72"
                    ],
                    [
                      "https://amazon.com/dp/B0057PM8XK"
                    ],
                    [
                      "https://amazon.com/dp/B0D9XW4GNX"
                    ],
                    [
                      "https://amazon.com/dp/B00007JGEK"
                    ],
                    [
                      "https://amazon.com/dp/B0F3WSKMTJ"
                    ],
                    [
                      "https://amazon.com/dp/B0DK9DJ74G"
                    ],
                    [
                      "https://amazon.com/dp/B0F1YMDZVM"
                    ],
                    [
                      "https://amazon.com/dp/B08FVC28DB"
                    ],
                    [
                      "https://amazon.com/dp/B00I1B9MKO"
                    ],
                    [
                      "https://amazon.com/dp/B0CFB6CLJ9"
                    ],
                    [
                      "https://amazon.com/dp/B09MDP5LCS"
                    ],
                    [
                      "https://amazon.com/dp/B0DF654LW8"
                    ],
                    [
                      "https://amazon.com/dp/B0DQ8Q416S"
                    ],
                    [
                      "https://amazon.com/dp/B0BYZ8PBV4"
                    ],
                    [
                      "https://amazon.com/dp/B00005K9PL"
                    ],
                    [
                      "https://amazon.com/dp/B0B8SB1HWP"
                    ],
                    [
                      "https://amazon.com/dp/B09PKTXK3T"
                    ],
                    [
                      "https://amazon.com/dp/B002FG9N96"
                    ],
                    [
                      "https://amazon.com/dp/B000R349IO"
                    ],
                    [
                      "https://amazon.com/dp/B0CZTXGSFD"
                    ],
                    [
                      "https://amazon.com/dp/B000E6UXOS"
                    ],
                    [
                      "https://amazon.com/dp/B0FHJ852WJ"
                    ],
                    [
                      "https://amazon.com/dp/B000N3SU6K"
                    ],
                    [
                      "https://amazon.com/dp/B0F6LHTCQ3"
                    ],
                    [
                      "https://amazon.com/dp/B0DH5HFPNV"
                    ],
                    [
                      "https://amazon.com/dp/B0CFLV946S"
                    ],
                    [
                      "https://amazon.com/dp/B0DC4LFX5G"
                    ],
                    [
                      "https://amazon.com/dp/B0000719UC"
                    ],
                    [
                      "https://amazon.com/dp/B09XN7DF63"
                    ],
                    [
                      "https://amazon.com/dp/B07DH4D1WD"
                    ],
                    [
                      "https://amazon.com/dp/B0F752DRF8"
                    ],
                    [
                      "https://amazon.com/dp/B0F21XQ2W4"
                    ],
                    [
                      "https://amazon.com/dp/B00AOO5P0M"
                    ],
                    [
                      "https://amazon.com/dp/B0F8JF9CQZ"
                    ],
                    [
                      "https://amazon.com/dp/B0B727KM8B"
                    ],
                    [
                      "https://amazon.com/dp/B0F1DSWQX1"
                    ],
                    [
                      "https://amazon.com/dp/B0FFGPF2WJ"
                    ],
                    [
                      "https://amazon.com/dp/B0FBLNGSW9"
                    ]
                  ],
                  "hovertemplate": "<b>%{hovertext}</b><br><br>Fulfillment=FBA<br>ASIN Revenue=%{x}<br>Reviews Rating=%{y}<br>Review Count=%{marker.size}<extra></extra>",
                  "hovertext": [
                    "B001J5CKTE",
                    "B0B23LV5Q5",
                    "B0081G0X2A",
                    "B0F428W2ZQ",
                    "B0FF4L834M",
                    "B00014W9YA",
                    "B06XSMYQD2",
                    "B0F7HG117L",
                    "B00IBKXTCW",
                    "B00C2RHAQQ",
                    "B00BDTDWPM",
                    "B07K2CCXMF",
                    "B0F7X99VXB",
                    "B004SUDQ8G",
                    "B0BQCSFRS6",
                    "B01LTHKMTG",
                    "B000IU4DK0",
                    "B0FGPJM4XP",
                    "B004XZ99TQ",
                    "B0FGYHS6FN",
                    "B0000CEROF",
                    "B0F2YJLQ6C",
                    "B0CKZWM62J",
                    "B0DK1PCHB6",
                    "B0F6CBDY5B",
                    "B0DCS84W79",
                    "B0F6K8LJJ6",
                    "B0002US53W",
                    "B0CXB18CQM",
                    "B0C6YLK9K9",
                    "0842526196",
                    "B0F62T4FSS",
                    "B004EJTGRG",
                    "B0DSKDRKSR",
                    "B0CBCHPDP1",
                    "1430085312",
                    "B0FJ1B1KLV",
                    "B004KK3IIC",
                    "B0015D20EU",
                    "B0F8H6B2WN",
                    "B005BAF5U4",
                    "B0FFJMXDR7",
                    "B005SGZP06",
                    "B0FDJPM3BV",
                    "B0CGVW41N3",
                    "B003OUV1JM",
                    "B0DPG2N1VH",
                    "B0F9WS8FRM",
                    "B00005QCVO",
                    "B0CJYJJZC1",
                    "B00S2PN0KC",
                    "B096VZZ5LY",
                    "B0C2YQ5B6F",
                    "B000CIWXL4",
                    "B0F4XFFGD7",
                    "B000XOM7XG",
                    "B0BNJHP5YM",
                    "B00TGF9EI4",
                    "B0FDGZKGDN",
                    "B0FCSQN3GB",
                    "B0DG5MJDDB",
                    "B0D5QMTSG4",
                    "B07D2NGJHX",
                    "B0F577MQC3",
                    "B0C8VCV52S",
                    "B0875H3RP3",
                    "B0F6MF8R2Q",
                    "B019EC9QRM",
                    "B0DHWZCKKK",
                    "B0FJLVNGGN",
                    "B0000CBXZR",
                    "B01M7X07WM",
                    "B07JWPFT9X",
                    "B0FCW68T72",
                    "B0057PM8XK",
                    "B0D9XW4GNX",
                    "B00007JGEK",
                    "B0F3WSKMTJ",
                    "B0DK9DJ74G",
                    "B0F1YMDZVM",
                    "B08FVC28DB",
                    "B00I1B9MKO",
                    "B0CFB6CLJ9",
                    "B09MDP5LCS",
                    "B0DF654LW8",
                    "B0DQ8Q416S",
                    "B0BYZ8PBV4",
                    "B00005K9PL",
                    "B0B8SB1HWP",
                    "B09PKTXK3T",
                    "B002FG9N96",
                    "B000R349IO",
                    "B0CZTXGSFD",
                    "B000E6UXOS",
                    "B0FHJ852WJ",
                    "B000N3SU6K",
                    "B0F6LHTCQ3",
                    "B0DH5HFPNV",
                    "B0CFLV946S",
                    "B0DC4LFX5G",
                    "B0000719UC",
                    "B09XN7DF63",
                    "B07DH4D1WD",
                    "B0F752DRF8",
                    "B0F21XQ2W4",
                    "B00AOO5P0M",
                    "B0F8JF9CQZ",
                    "B0B727KM8B",
                    "B0F1DSWQX1",
                    "B0FFGPF2WJ",
                    "B0FBLNGSW9"
                  ],
                  "legendgroup": "FBA",
                  "marker": {
                    "color": "#19D3F3",
                    "size": {
                      "bdata": "EwAdAQAAKQAGABsAAQBFALEA9gAFABIABABIAAAABAAQAAYADgABAAsAFQCAAAsAEAA4ACAAGgAAAAUABAAfAAcAMQADAAAADAArAAcAFgAIAAIAFwADAAAASgAHAAsAPACIAQUAPwG1AfQADgAQAAQAJAABAAQAPQBLAFMAAAACAB4AAwASAFYAAAAEAAQAEQADAAAAgwARABsAGwAIAAUAAQAAAAQAMwAKAAcBGQBwAH0ADQBwAQAAmAADAH4ABgDnAFAAAwACAAAAAAAIAAwACwAEAG8AAAABAAAA",
                      "dtype": "i2"
                    },
                    "sizemode": "area",
                    "sizeref": 1.0925,
                    "symbol": "circle"
                  },
                  "mode": "markers",
                  "name": "FBA",
                  "orientation": "v",
                  "showlegend": true,
                  "type": "scatter",
                  "x": {
                    "bdata": "pHA9CrdowkDXo3A9ylq7QGZmZmbm57lApHA9CpcLuEC4HoXr0Ze2QFyPwvXob7ZACtejcL2QtUBSuB6F6ze1QAAAAADAMrRAmpmZmVnVs0BmZmZm5s+zQArXo3D9nLNAw/UoXE9Ss0AUrkfhekyzQFK4HoUrjrJAmpmZmRmFskBmZmZmpoKyQD0K16PwLLJAMzMzM/MmskCF61G4Xh+yQDMzMzOzxrFAw/UoXE+XsUAK16NwfZaxQJqZmZkZk7FAzczMzEyMsUDD9ShcT3yxQHE9CtejdbFArkfhelRRsUDD9ShcT0SxQMP1KFxPQ7FArkfhetQ/sUBSuB6F6ymxQB+F61F4I7FAcT0K1yMisUAAAAAAwB2xQEjhehSuGbFAuB6F6xEZsUAzMzMzMw6xQBSuR+F6C7FAXI/C9SgFsUAAAAAAgPywQArXo3D997BAPQrXozDwsEBSuB6Fa9ywQLgehevR17BAPQrXo/CwsEC4HoXrUbCwQClcj8I1rLBArkfhepSosEDD9ShcT6OwQLgehetRmbBAj8L1KNyXsECPwvUonImwQM3MzMzMd7BAPQrXozB3sEAK16NwfXOwQOF6FK7HcrBAH4XrUbhusEAK16Nw/WywQIXrUbjeabBApHA9CldmsEBxPQrXo2KwQArXo3B9UrBA7FG4HgVRsEBmZmZmZk+wQPYoXI+CTbBA16NwPQpDsEC4HoXrET6wQLgehesRPLBACtejcH02sECkcD0KVzSwQD0K16OwMLBAuB6F69EqsECPwvUoHCqwQOF6FK6HJrBA7FG4HsUcsED2KFyPQhuwQMP1KFwPGbBAUrgehWsWsEDNzMzMTBWwQPYoXI+CFLBA16NwPQoLsEBcj8L1qAqwQHE9CtdjCLBACtejcP0DsECF61G4nv2vQAAAAAAA7q9AexSuR2Hjr0BxPQrXo9yvQPYoXI/Cuq9AAAAAAIC1r0DhehSuR6KvQM3MzMzMma9AXI/C9SiJr0BI4XoUroWvQK5H4XoUgK9A9ihcj8J6r0DsUbgeBXevQHsUrkdhdK9AH4XrUTh0r0DD9Shcj26vQOF6FK5HXq9ArkfhepRWr0DD9Shcj0WvQNejcD0KRa9AAAAAAIAvr0DhehSuxySvQGZmZmZmHa9Aj8L1KNwar0AfhetRuBqvQAAAAAAACq9A",
                    "dtype": "f8"
                  },
                  "xaxis": "x",
                  "y": {
                    "bdata": "AAAAAAAADECamZmZmZkNQAAAAAAAAAAAMzMzMzMzC0DNzMzMzMwAQDMzMzMzMwtAAAAAAAAACEAAAAAAAAAIQM3MzMzMzAxAzczMzMzMBECamZmZmZkJQJqZmZmZmQ1AMzMzMzMzB0CamZmZmZkNQAAAAAAAAAAAmpmZmZmZDUDNzMzMzMwMQAAAAAAAAPA/mpmZmZmZDUAAAAAAAADwPzMzMzMzMwtAmpmZmZmZDUDNzMzMzMwIQM3MzMzMzAhAmpmZmZmZDUCamZmZmZkNQJqZmZmZmQ1AzczMzMzMDEAAAAAAAAAAAJqZmZmZmQ1AAAAAAAAAAECamZmZmZkNQAAAAAAAAABAAAAAAAAADEBmZmZmZmYKQAAAAAAAAAAAMzMzMzMzA0AzMzMzMzMLQJqZmZmZmQlAAAAAAAAADEAzMzMzMzMLQAAAAAAAAAhAmpmZmZmZDUAAAAAAAAAEQAAAAAAAAAAAzczMzMzMDEAAAAAAAAAMQGZmZmZmZv4/mpmZmZmZDUCamZmZmZkNQJqZmZmZmQlAZmZmZmZmCkCamZmZmZkNQJqZmZmZmQ1AzczMzMzMCEAAAAAAAAAIQDMzMzMzMwdAzczMzMzMCEAAAAAAAAAAQAAAAAAAAAhAMzMzMzMzC0CamZmZmZkNQM3MzMzMzAxAAAAAAAAAAADNzMzMzMwAQJqZmZmZmQlAZmZmZmZmCkDNzMzMzMwMQJqZmZmZmQ1AAAAAAAAAAACamZmZmZkNQJqZmZmZmQFAzczMzMzMDEAAAAAAAAAMQAAAAAAAAAAAAAAAAAAADEAAAAAAAAAIQJqZmZmZmQ1AmpmZmZmZBUCamZmZmZkNQDMzMzMzMwtAAAAAAAAAAEAAAAAAAAAAAJqZmZmZmQ1AzczMzMzMDEBmZmZmZmYCQM3MzMzMzAxAmpmZmZmZDUCamZmZmZkNQM3MzMzMzAxAmpmZmZmZBUCamZmZmZkNQAAAAAAAAAAAmpmZmZmZCUAAAAAAAAAMQJqZmZmZmQlAmpmZmZmZDUCamZmZmZkJQJqZmZmZmQ1AmpmZmZmZDUCamZmZmZkFQAAAAAAAAAAAAAAAAAAAAADNzMzMzMwIQGZmZmZmZgpAAAAAAAAADEAAAAAAAAAIQGZmZmZmZgpAAAAAAAAAAAAAAAAAAAAAQAAAAAAAAAAA",
                    "dtype": "f8"
                  },
                  "yaxis": "y"
                },
                {
                  "customdata": [
                    [
                      "https://amazon.com/dp/B00CF48I9Y"
                    ],
                    [
                      "https://amazon.com/dp/B004QD47YW"
                    ],
                    [
                      "https://amazon.com/dp/B07GGCZ7GS"
                    ],
                    [
                      "https://amazon.com/dp/B0DL4VSBCG"
                    ],
                    [
                      "https://amazon.com/dp/B000O8RFRY"
                    ],
                    [
                      "https://amazon.com/dp/B0D9TZLYH6"
                    ],
                    [
                      "https://amazon.com/dp/B08LKFF4NT"
                    ],
                    [
                      "https://amazon.com/dp/B003IZUAWC"
                    ],
                    [
                      "https://amazon.com/dp/B0771JSCJ2"
                    ],
                    [
                      "https://amazon.com/dp/B01C8RGGR8"
                    ],
                    [
                      "https://amazon.com/dp/B0FJF419JF"
                    ],
                    [
                      "https://amazon.com/dp/B018632NHK"
                    ],
                    [
                      "https://amazon.com/dp/B08JCG8PYV"
                    ],
                    [
                      "https://amazon.com/dp/B0815YJ5KD"
                    ],
                    [
                      "https://amazon.com/dp/B07B8C91B4"
                    ],
                    [
                      "https://amazon.com/dp/B0094AH37K"
                    ],
                    [
                      "https://amazon.com/dp/B0FJFWCSRJ"
                    ],
                    [
                      "https://amazon.com/dp/B0CSQKMN6D"
                    ],
                    [
                      "https://amazon.com/dp/B00EJSU09A"
                    ],
                    [
                      "https://amazon.com/dp/B009G248AG"
                    ],
                    [
                      "https://amazon.com/dp/B00IZO4IAQ"
                    ],
                    [
                      "https://amazon.com/dp/B00009KP0M"
                    ],
                    [
                      "https://amazon.com/dp/B00B4KFV3G"
                    ],
                    [
                      "https://amazon.com/dp/B0DL4Z22FJ"
                    ],
                    [
                      "https://amazon.com/dp/B07X6YSN9D"
                    ],
                    [
                      "https://amazon.com/dp/B0C42D2BCF"
                    ],
                    [
                      "https://amazon.com/dp/B0DFXHD3JD"
                    ],
                    [
                      "https://amazon.com/dp/B0DRGM3CGT"
                    ],
                    [
                      "https://amazon.com/dp/B01EME28L8"
                    ],
                    [
                      "https://amazon.com/dp/B001P5ZVYE"
                    ],
                    [
                      "https://amazon.com/dp/B00A1C18LW"
                    ],
                    [
                      "https://amazon.com/dp/B086PMNFB5"
                    ],
                    [
                      "https://amazon.com/dp/B004TP55JI"
                    ],
                    [
                      "https://amazon.com/dp/B097GK6P4X"
                    ],
                    [
                      "https://amazon.com/dp/B0000C8Y0F"
                    ],
                    [
                      "https://amazon.com/dp/B0DJ1MS919"
                    ],
                    [
                      "https://amazon.com/dp/B0DGWGDPZD"
                    ],
                    [
                      "https://amazon.com/dp/B000W4N2AE"
                    ],
                    [
                      "https://amazon.com/dp/B07D512B99"
                    ],
                    [
                      "https://amazon.com/dp/B073LWM6BC"
                    ],
                    [
                      "https://amazon.com/dp/B003IN7YN2"
                    ],
                    [
                      "https://amazon.com/dp/B09NRCXVFD"
                    ],
                    [
                      "https://amazon.com/dp/B00009V7O8"
                    ],
                    [
                      "https://amazon.com/dp/B0CMF4WMZD"
                    ],
                    [
                      "https://amazon.com/dp/B01BSP2XEG"
                    ],
                    [
                      "https://amazon.com/dp/B00JXW11NG"
                    ],
                    [
                      "https://amazon.com/dp/B0077RTS48"
                    ],
                    [
                      "https://amazon.com/dp/B0B4B4Z5GP"
                    ],
                    [
                      "https://amazon.com/dp/B00ECZJ0FU"
                    ],
                    [
                      "https://amazon.com/dp/B0000ALPHI"
                    ],
                    [
                      "https://amazon.com/dp/B000PMLDUE"
                    ],
                    [
                      "https://amazon.com/dp/B01EGC9JPE"
                    ],
                    [
                      "https://amazon.com/dp/B0DYH2RKSP"
                    ],
                    [
                      "https://amazon.com/dp/B000MGBQIW"
                    ],
                    [
                      "https://amazon.com/dp/B07BRG2SF6"
                    ],
                    [
                      "https://amazon.com/dp/B00O7HSHGQ"
                    ]
                  ],
                  "hovertemplate": "<b>%{hovertext}</b><br><br>Fulfillment=FBM<br>ASIN Revenue=%{x}<br>Reviews Rating=%{y}<br>Review Count=%{marker.size}<extra></extra>",
                  "hovertext": [
                    "B00CF48I9Y",
                    "B004QD47YW",
                    "B07GGCZ7GS",
                    "B0DL4VSBCG",
                    "B000O8RFRY",
                    "B0D9TZLYH6",
                    "B08LKFF4NT",
                    "B003IZUAWC",
                    "B0771JSCJ2",
                    "B01C8RGGR8",
                    "B0FJF419JF",
                    "B018632NHK",
                    "B08JCG8PYV",
                    "B0815YJ5KD",
                    "B07B8C91B4",
                    "B0094AH37K",
                    "B0FJFWCSRJ",
                    "B0CSQKMN6D",
                    "B00EJSU09A",
                    "B009G248AG",
                    "B00IZO4IAQ",
                    "B00009KP0M",
                    "B00B4KFV3G",
                    "B0DL4Z22FJ",
                    "B07X6YSN9D",
                    "B0C42D2BCF",
                    "B0DFXHD3JD",
                    "B0DRGM3CGT",
                    "B01EME28L8",
                    "B001P5ZVYE",
                    "B00A1C18LW",
                    "B086PMNFB5",
                    "B004TP55JI",
                    "B097GK6P4X",
                    "B0000C8Y0F",
                    "B0DJ1MS919",
                    "B0DGWGDPZD",
                    "B000W4N2AE",
                    "B07D512B99",
                    "B073LWM6BC",
                    "B003IN7YN2",
                    "B09NRCXVFD",
                    "B00009V7O8",
                    "B0CMF4WMZD",
                    "B01BSP2XEG",
                    "B00JXW11NG",
                    "B0077RTS48",
                    "B0B4B4Z5GP",
                    "B00ECZJ0FU",
                    "B0000ALPHI",
                    "B000PMLDUE",
                    "B01EGC9JPE",
                    "B0DYH2RKSP",
                    "B000MGBQIW",
                    "B07BRG2SF6",
                    "B00O7HSHGQ"
                  ],
                  "legendgroup": "FBM",
                  "marker": {
                    "color": "#FF6692",
                    "size": {
                      "bdata": "KwAAAAcAAAAKAAAAAAA9AAAACQAAAAQAAAAAAAMAIgAAAAMASQB4ABoALAALAAAAVwAcAAUACwAOAAAAggAHAAUAAAA6ACgBAQAjADIAHQAdAGIAAwAAAAIArwAUAAAAAgADAAEAGwAAAAcABAAHAA==",
                      "dtype": "i2"
                    },
                    "sizemode": "area",
                    "sizeref": 1.0925,
                    "symbol": "circle"
                  },
                  "mode": "markers",
                  "name": "FBM",
                  "orientation": "v",
                  "showlegend": true,
                  "type": "scatter",
                  "x": {
                    "bdata": "w/UoXE8AxECkcD0Kdw3AQOxRuB4FG7dApHA9CheztkCamZmZmRC1QIXrUbheTbRAPQrXo/ACtEBI4XoUrgeyQDMzMzMz9bFACtejcH3hsUDhehSuR9axQFyPwvXoz7FAFK5H4XqYsUCPwvUonJSxQEjhehTuj7FAhetRuN55sUCkcD0Kl2OxQKRwPQqXULFAhetRuN5AsUBI4XoULh6xQHsUrkdhGbFA16NwPUoPsUD2KFyPQv2wQOxRuB5F/LBAuB6F69HvsEDXo3A9ituwQMP1KFzP2bBApHA9ChfUsEBI4XoULsSwQK5H4XqUk7BA16NwPcpmsEDsUbgeRV+wQOxRuB7FW7BA9ihcj8JHsECF61G43kSwQB+F61G4RLBACtejcP0rsEDD9ShcTyCwQFyPwvWoHrBAuB6F69EUsEA9CtejcPSvQDMzMzMz8a9ApHA9ClfXr0BmZmZmZtWvQFyPwvWot69ACtejcD20r0A9Ctej8KGvQMP1KFwPnq9AMzMzM7OSr0AfhetROHmvQM3MzMxMZa9AFK5H4fpkr0DhehSuxzivQMP1KFwPI69ApHA9CtcNr0BI4XoUrviuQA==",
                    "dtype": "f8"
                  },
                  "xaxis": "x",
                  "y": {
                    "bdata": "mpmZmZmZDUAAAAAAAAAAAAAAAAAAAAxAAAAAAAAAAADNzMzMzMwMQAAAAAAAAAAAAAAAAAAAAADNzMzMzMwMQAAAAAAAAAAAMzMzMzMzC0AAAAAAAAAAAM3MzMzMzAxAAAAAAAAAAAAAAAAAAAAAAJqZmZmZmQ1AZmZmZmZmBkAAAAAAAAAAAGZmZmZmZgpAAAAAAAAADEDNzMzMzMwMQM3MzMzMzAxAmpmZmZmZDUAAAAAAAAAIQAAAAAAAAAAAzczMzMzMDEDNzMzMzMwMQJqZmZmZmQVAmpmZmZmZDUCamZmZmZkNQAAAAAAAAAAAmpmZmZmZBUCamZmZmZkFQJqZmZmZmQ1AAAAAAAAAAACamZmZmZkNQDMzMzMzMwtAAAAAAAAA8D8AAAAAAAAMQM3MzMzMzAxAmpmZmZmZDUAzMzMzMzMLQM3MzMzMzAxAAAAAAAAA+D8AAAAAAAAAAJqZmZmZmQlAzczMzMzMDECamZmZmZkNQAAAAAAAAAAAZmZmZmZmAkDNzMzMzMwIQAAAAAAAAAhAmpmZmZmZDUAAAAAAAAAAAM3MzMzMzAhAzczMzMzMCEAzMzMzMzMLQA==",
                    "dtype": "f8"
                  },
                  "yaxis": "y"
                }
              ],
              "layout": {
                "hovermode": "closest",
                "legend": {
                  "itemsizing": "constant",
                  "title": {
                    "text": "Fulfillment"
                  },
                  "tracegroupgap": 0
                },
                "margin": {
                  "t": 60
                },
                "newshape": {
                  "line": {
                    "color": "black",
                    "width": 2
                  }
                },
                "template": {
                  "data": {
                    "bar": [
                      {
                        "error_x": {
                          "color": "#2a3f5f"
                        },
                        "error_y": {
                          "color": "#2a3f5f"
                        },
                        "marker": {
                          "line": {
                            "color": "#E5ECF6",
                            "width": 0.5
                          },
                          "pattern": {
                            "fillmode": "overlay",
                            "size": 10,
                            "solidity": 0.2
                          }
                        },
                        "type": "bar"
                      }
                    ],
                    "barpolar": [
                      {
                        "marker": {
                          "line": {
                            "color": "#E5ECF6",
                            "width": 0.5
                          },
                          "pattern": {
                            "fillmode": "overlay",
                            "size": 10,
                            "solidity": 0.2
                          }
                        },
                        "type": "barpolar"
                      }
                    ],
                    "carpet": [
                      {
                        "aaxis": {
                          "endlinecolor": "#2a3f5f",
                          "gridcolor": "white",
                          "linecolor": "white",
                          "minorgridcolor": "white",
                          "startlinecolor": "#2a3f5f"
                        },
                        "baxis": {
                          "endlinecolor": "#2a3f5f",
                          "gridcolor": "white",
                          "linecolor": "white",
                          "minorgridcolor": "white",
                          "startlinecolor": "#2a3f5f"
                        },
                        "type": "carpet"
                      }
                    ],
                    "choropleth": [
                      {
                        "colorbar": {
                          "outlinewidth": 0,
                          "ticks": ""
                        },
                        "type": "choropleth"
                      }
                    ],
                    "contour": [
                      {
                        "colorbar": {
                          "outlinewidth": 0,
                          "ticks": ""
                        },
                        "colorscale": [
                          [
                            0,
                            "#0d0887"
                          ],
                          [
                            0.1111111111111111,
                            "#46039f"
                          ],
                          [
                            0.2222222222222222,
                            "#7201a8"
                          ],
                          [
                            0.3333333333333333,
                            "#9c179e"
                          ],
                          [
                            0.4444444444444444,
                            "#bd3786"
                          ],
                          [
                            0.5555555555555556,
                            "#d8576b"
                          ],
                          [
                            0.6666666666666666,
                            "#ed7953"
                          ],
                          [
                            0.7777777777777778,
                            "#fb9f3a"
                          ],
                          [
                            0.8888888888888888,
                            "#fdca26"
                          ],
                          [
                            1,
                            "#f0f921"
                          ]
                        ],
                        "type": "contour"
                      }
                    ],
                    "contourcarpet": [
                      {
                        "colorbar": {
                          "outlinewidth": 0,
                          "ticks": ""
                        },
                        "type": "contourcarpet"
                      }
                    ],
                    "heatmap": [
                      {
                        "colorbar": {
                          "outlinewidth": 0,
                          "ticks": ""
                        },
                        "colorscale": [
                          [
                            0,
                            "#0d0887"
                          ],
                          [
                            0.1111111111111111,
                            "#46039f"
                          ],
                          [
                            0.2222222222222222,
                            "#7201a8"
                          ],
                          [
                            0.3333333333333333,
                            "#9c179e"
                          ],
                          [
                            0.4444444444444444,
                            "#bd3786"
                          ],
                          [
                            0.5555555555555556,
                            "#d8576b"
                          ],
                          [
                            0.6666666666666666,
                            "#ed7953"
                          ],
                          [
                            0.7777777777777778,
                            "#fb9f3a"
                          ],
                          [
                            0.8888888888888888,
                            "#fdca26"
                          ],
                          [
                            1,
                            "#f0f921"
                          ]
                        ],
                        "type": "heatmap"
                      }
                    ],
                    "histogram": [
                      {
                        "marker": {
                          "pattern": {
                            "fillmode": "overlay",
                            "size": 10,
                            "solidity": 0.2
                          }
                        },
                        "type": "histogram"
                      }
                    ],
                    "histogram2d": [
                      {
                        "colorbar": {
                          "outlinewidth": 0,
                          "ticks": ""
                        },
                        "colorscale": [
                          [
                            0,
                            "#0d0887"
                          ],
                          [
                            0.1111111111111111,
                            "#46039f"
                          ],
                          [
                            0.2222222222222222,
                            "#7201a8"
                          ],
                          [
                            0.3333333333333333,
                            "#9c179e"
                          ],
                          [
                            0.4444444444444444,
                            "#bd3786"
                          ],
                          [
                            0.5555555555555556,
                            "#d8576b"
                          ],
                          [
                            0.6666666666666666,
                            "#ed7953"
                          ],
                          [
                            0.7777777777777778,
                            "#fb9f3a"
                          ],
                          [
                            0.8888888888888888,
                            "#fdca26"
                          ],
                          [
                            1,
                            "#f0f921"
                          ]
                        ],
                        "type": "histogram2d"
                      }
                    ],
                    "histogram2dcontour": [
                      {
                        "colorbar": {
                          "outlinewidth": 0,
                          "ticks": ""
                        },
                        "colorscale": [
                          [
                            0,
                            "#0d0887"
                          ],
                          [
                            0.1111111111111111,
                            "#46039f"
                          ],
                          [
                            0.2222222222222222,
                            "#7201a8"
                          ],
                          [
                            0.3333333333333333,
                            "#9c179e"
                          ],
                          [
                            0.4444444444444444,
                            "#bd3786"
                          ],
                          [
                            0.5555555555555556,
                            "#d8576b"
                          ],
                          [
                            0.6666666666666666,
                            "#ed7953"
                          ],
                          [
                            0.7777777777777778,
                            "#fb9f3a"
                          ],
                          [
                            0.8888888888888888,
                            "#fdca26"
                          ],
                          [
                            1,
                            "#f0f921"
                          ]
                        ],
                        "type": "histogram2dcontour"
                      }
                    ],
                    "mesh3d": [
                      {
                        "colorbar": {
                          "outlinewidth": 0,
                          "ticks": ""
                        },
                        "type": "mesh3d"
                      }
                    ],
                    "parcoords": [
                      {
                        "line": {
                          "colorbar": {
                            "outlinewidth": 0,
                            "ticks": ""
                          }
                        },
                        "type": "parcoords"
                      }
                    ],
                    "pie": [
                      {
                        "automargin": true,
                        "type": "pie"
                      }
                    ],
                    "scatter": [
                      {
                        "fillpattern": {
                          "fillmode": "overlay",
                          "size": 10,
                          "solidity": 0.2
                        },
                        "type": "scatter"
                      }
                    ],
                    "scatter3d": [
                      {
                        "line": {
                          "colorbar": {
                            "outlinewidth": 0,
                            "ticks": ""
                          }
                        },
                        "marker": {
                          "colorbar": {
                            "outlinewidth": 0,
                            "ticks": ""
                          }
                        },
                        "type": "scatter3d"
                      }
                    ],
                    "scattercarpet": [
                      {
                        "marker": {
                          "colorbar": {
                            "outlinewidth": 0,
                            "ticks": ""
                          }
                        },
                        "type": "scattercarpet"
                      }
                    ],
                    "scattergeo": [
                      {
                        "marker": {
                          "colorbar": {
                            "outlinewidth": 0,
                            "ticks": ""
                          }
                        },
                        "type": "scattergeo"
                      }
                    ],
                    "scattergl": [
                      {
                        "marker": {
                          "colorbar": {
                            "outlinewidth": 0,
                            "ticks": ""
                          }
                        },
                        "type": "scattergl"
                      }
                    ],
                    "scattermap": [
                      {
                        "marker": {
                          "colorbar": {
                            "outlinewidth": 0,
                            "ticks": ""
                          }
                        },
                        "type": "scattermap"
                      }
                    ],
                    "scattermapbox": [
                      {
                        "marker": {
                          "colorbar": {
                            "outlinewidth": 0,
                            "ticks": ""
                          }
                        },
                        "type": "scattermapbox"
                      }
                    ],
                    "scatterpolar": [
                      {
                        "marker": {
                          "colorbar": {
                            "outlinewidth": 0,
                            "ticks": ""
                          }
                        },
                        "type": "scatterpolar"
                      }
                    ],
                    "scatterpolargl": [
                      {
                        "marker": {
                          "colorbar": {
                            "outlinewidth": 0,
                            "ticks": ""
                          }
                        },
                        "type": "scatterpolargl"
                      }
                    ],
                    "scatterternary": [
                      {
                        "marker": {
                          "colorbar": {
                            "outlinewidth": 0,
                            "ticks": ""
                          }
                        },
                        "type": "scatterternary"
                      }
                    ],
                    "surface": [
                      {
                        "colorbar": {
                          "outlinewidth": 0,
                          "ticks": ""
                        },
                        "colorscale": [
                          [
                            0,
                            "#0d0887"
                          ],
                          [
                            0.1111111111111111,
                            "#46039f"
                          ],
                          [
                            0.2222222222222222,
                            "#7201a8"
                          ],
                          [
                            0.3333333333333333,
                            "#9c179e"
                          ],
                          [
                            0.4444444444444444,
                            "#bd3786"
                          ],
                          [
                            0.5555555555555556,
                            "#d8576b"
                          ],
                          [
                            0.6666666666666666,
                            "#ed7953"
                          ],
                          [
                            0.7777777777777778,
                            "#fb9f3a"
                          ],
                          [
                            0.8888888888888888,
                            "#fdca26"
                          ],
                          [
                            1,
                            "#f0f921"
                          ]
                        ],
                        "type": "surface"
                      }
                    ],
                    "table": [
                      {
                        "cells": {
                          "fill": {
                            "color": "#EBF0F8"
                          },
                          "line": {
                            "color": "white"
                          }
                        },
                        "header": {
                          "fill": {
                            "color": "#C8D4E3"
                          },
                          "line": {
                            "color": "white"
                          }
                        },
                        "type": "table"
                      }
                    ]
                  },
                  "layout": {
                    "annotationdefaults": {
                      "arrowcolor": "#2a3f5f",
                      "arrowhead": 0,
                      "arrowwidth": 1
                    },
                    "autotypenumbers": "strict",
                    "coloraxis": {
                      "colorbar": {
                        "outlinewidth": 0,
                        "ticks": ""
                      }
                    },
                    "colorscale": {
                      "diverging": [
                        [
                          0,
                          "#8e0152"
                        ],
                        [
                          0.1,
                          "#c51b7d"
                        ],
                        [
                          0.2,
                          "#de77ae"
                        ],
                        [
                          0.3,
                          "#f1b6da"
                        ],
                        [
                          0.4,
                          "#fde0ef"
                        ],
                        [
                          0.5,
                          "#f7f7f7"
                        ],
                        [
                          0.6,
                          "#e6f5d0"
                        ],
                        [
                          0.7,
                          "#b8e186"
                        ],
                        [
                          0.8,
                          "#7fbc41"
                        ],
                        [
                          0.9,
                          "#4d9221"
                        ],
                        [
                          1,
                          "#276419"
                        ]
                      ],
                      "sequential": [
                        [
                          0,
                          "#0d0887"
                        ],
                        [
                          0.1111111111111111,
                          "#46039f"
                        ],
                        [
                          0.2222222222222222,
                          "#7201a8"
                        ],
                        [
                          0.3333333333333333,
                          "#9c179e"
                        ],
                        [
                          0.4444444444444444,
                          "#bd3786"
                        ],
                        [
                          0.5555555555555556,
                          "#d8576b"
                        ],
                        [
                          0.6666666666666666,
                          "#ed7953"
                        ],
                        [
                          0.7777777777777778,
                          "#fb9f3a"
                        ],
                        [
                          0.8888888888888888,
                          "#fdca26"
                        ],
                        [
                          1,
                          "#f0f921"
                        ]
                      ],
                      "sequentialminus": [
                        [
                          0,
                          "#0d0887"
                        ],
                        [
                          0.1111111111111111,
                          "#46039f"
                        ],
                        [
                          0.2222222222222222,
                          "#7201a8"
                        ],
                        [
                          0.3333333333333333,
                          "#9c179e"
                        ],
                        [
                          0.4444444444444444,
                          "#bd3786"
                        ],
                        [
                          0.5555555555555556,
                          "#d8576b"
                        ],
                        [
                          0.6666666666666666,
                          "#ed7953"
                        ],
                        [
                          0.7777777777777778,
                          "#fb9f3a"
                        ],
                        [
                          0.8888888888888888,
                          "#fdca26"
                        ],
                        [
                          1,
                          "#f0f921"
                        ]
                      ]
                    },
                    "colorway": [
                      "#636efa",
                      "#EF553B",
                      "#00cc96",
                      "#ab63fa",
                      "#FFA15A",
                      "#19d3f3",
                      "#FF6692",
                      "#B6E880",
                      "#FF97FF",
                      "#FECB52"
                    ],
                    "font": {
                      "color": "#2a3f5f"
                    },
                    "geo": {
                      "bgcolor": "white",
                      "lakecolor": "white",
                      "landcolor": "#E5ECF6",
                      "showlakes": true,
                      "showland": true,
                      "subunitcolor": "white"
                    },
                    "hoverlabel": {
                      "align": "left"
                    },
                    "hovermode": "closest",
                    "mapbox": {
                      "style": "light"
                    },
                    "paper_bgcolor": "white",
                    "plot_bgcolor": "#E5ECF6",
                    "polar": {
                      "angularaxis": {
                        "gridcolor": "white",
                        "linecolor": "white",
                        "ticks": ""
                      },
                      "bgcolor": "#E5ECF6",
                      "radialaxis": {
                        "gridcolor": "white",
                        "linecolor": "white",
                        "ticks": ""
                      }
                    },
                    "scene": {
                      "xaxis": {
                        "backgroundcolor": "#E5ECF6",
                        "gridcolor": "white",
                        "gridwidth": 2,
                        "linecolor": "white",
                        "showbackground": true,
                        "ticks": "",
                        "zerolinecolor": "white"
                      },
                      "yaxis": {
                        "backgroundcolor": "#E5ECF6",
                        "gridcolor": "white",
                        "gridwidth": 2,
                        "linecolor": "white",
                        "showbackground": true,
                        "ticks": "",
                        "zerolinecolor": "white"
                      },
                      "zaxis": {
                        "backgroundcolor": "#E5ECF6",
                        "gridcolor": "white",
                        "gridwidth": 2,
                        "linecolor": "white",
                        "showbackground": true,
                        "ticks": "",
                        "zerolinecolor": "white"
                      }
                    },
                    "shapedefaults": {
                      "line": {
                        "color": "#2a3f5f"
                      }
                    },
                    "ternary": {
                      "aaxis": {
                        "gridcolor": "white",
                        "linecolor": "white",
                        "ticks": ""
                      },
                      "baxis": {
                        "gridcolor": "white",
                        "linecolor": "white",
                        "ticks": ""
                      },
                      "bgcolor": "#E5ECF6",
                      "caxis": {
                        "gridcolor": "white",
                        "linecolor": "white",
                        "ticks": ""
                      }
                    },
                    "title": {
                      "x": 0.05
                    },
                    "xaxis": {
                      "automargin": true,
                      "gridcolor": "white",
                      "linecolor": "white",
                      "ticks": "",
                      "title": {
                        "standoff": 15
                      },
                      "zerolinecolor": "white",
                      "zerolinewidth": 2
                    },
                    "yaxis": {
                      "automargin": true,
                      "gridcolor": "white",
                      "linecolor": "white",
                      "ticks": "",
                      "title": {
                        "standoff": 15
                      },
                      "zerolinecolor": "white",
                      "zerolinewidth": 2
                    }
                  }
                },
                "title": {
                  "text": "ASIN Revenue vs Review Count (ORIGINAL)"
                },
                "xaxis": {
                  "anchor": "y",
                  "domain": [
                    0,
                    1
                  ],
                  "title": {
                    "text": "ASIN Revenue"
                  }
                },
                "yaxis": {
                  "anchor": "x",
                  "domain": [
                    0,
                    1
                  ],
                  "title": {
                    "text": "Reviews Rating"
                  }
                }
              }
            }
          },
          "metadata": {},
          "output_type": "display_data"
        }
      ],
      "source": [
        "# @title ASIN Revenue vs Review Count (ORIGINAL)\n",
        "\n",
        "# Para mostrar la grafica de dispersión con los productos originales\n",
        "\n",
        "fig = px.scatter(df, x='ASIN Revenue', y='Reviews Rating', size='Review Count', color='Fulfillment', hover_name='ASIN',\n",
        "                 color_discrete_map={'Amazon': '#FFA15A', 'FBA': '#19D3F3', 'FBM':'#FF6692'},\n",
        "                 category_orders={'Fulfillment': ['Amazon', 'FBA', 'FBM']},\n",
        "                 custom_data=['URL'])\n",
        "\n",
        "fig.update_layout(\n",
        "    title='ASIN Revenue vs Review Count (ORIGINAL)',\n",
        "    hovermode='closest',\n",
        "    newshape=dict(line_color='black', line_width=2),\n",
        ")\n",
        "\n",
        "fig.show()"
      ]
    },
    {
      "cell_type": "code",
      "execution_count": 9,
      "metadata": {},
      "outputs": [
        {
          "data": {
            "application/vnd.plotly.v1+json": {
              "config": {
                "plotlyServerURL": "https://plot.ly"
              },
              "data": [
                {
                  "customdata": [
                    [
                      "https://amazon.com/dp/166811335X"
                    ],
                    [
                      "https://amazon.com/dp/B0F2P76DSF"
                    ],
                    [
                      "https://amazon.com/dp/B0D342XY7N"
                    ],
                    [
                      "https://amazon.com/dp/B0DPJFY3CM"
                    ],
                    [
                      "https://amazon.com/dp/B0F8LG8STL"
                    ],
                    [
                      "https://amazon.com/dp/B0D5WLZB6X"
                    ],
                    [
                      "https://amazon.com/dp/B0DM1QFGHG"
                    ],
                    [
                      "https://amazon.com/dp/031657323X"
                    ],
                    [
                      "https://amazon.com/dp/1068756330"
                    ],
                    [
                      "https://amazon.com/dp/B0FBPM2P2R"
                    ],
                    [
                      "https://amazon.com/dp/B0CTRTX151"
                    ],
                    [
                      "https://amazon.com/dp/B0DT9ZCYX5"
                    ],
                    [
                      "https://amazon.com/dp/B0F8L4MBQF"
                    ],
                    [
                      "https://amazon.com/dp/B0FFN86JRJ"
                    ],
                    [
                      "https://amazon.com/dp/B0FD2J6J4R"
                    ],
                    [
                      "https://amazon.com/dp/B0D33ZJ2B2"
                    ]
                  ],
                  "hovertemplate": "<b>%{hovertext}</b><br><br>Fulfillment=Amazon<br>ASIN Revenue=%{x}<br>Reviews Rating=%{y}<br>Review Count=%{marker.size}<extra></extra>",
                  "hovertext": [
                    "https://amazon.com/dp/166811335X",
                    "https://amazon.com/dp/B0F2P76DSF",
                    "https://amazon.com/dp/B0D342XY7N",
                    "https://amazon.com/dp/B0DPJFY3CM",
                    "https://amazon.com/dp/B0F8LG8STL",
                    "https://amazon.com/dp/B0D5WLZB6X",
                    "https://amazon.com/dp/B0DM1QFGHG",
                    "https://amazon.com/dp/031657323X",
                    "https://amazon.com/dp/1068756330",
                    "https://amazon.com/dp/B0FBPM2P2R",
                    "https://amazon.com/dp/B0CTRTX151",
                    "https://amazon.com/dp/B0DT9ZCYX5",
                    "https://amazon.com/dp/B0F8L4MBQF",
                    "https://amazon.com/dp/B0FFN86JRJ",
                    "https://amazon.com/dp/B0FD2J6J4R",
                    "https://amazon.com/dp/B0D33ZJ2B2"
                  ],
                  "legendgroup": "Amazon",
                  "marker": {
                    "color": "#FFA15A",
                    "size": {
                      "bdata": "AAA4AAA4AQAAAAAAAAAAAw==",
                      "dtype": "i1"
                    },
                    "sizemode": "area",
                    "sizeref": 0.5775,
                    "symbol": "circle"
                  },
                  "mode": "markers",
                  "name": "Amazon",
                  "orientation": "v",
                  "showlegend": true,
                  "type": "scatter",
                  "x": {
                    "bdata": "SOF6FC4Dt0CkcD0KF9G0QD0K16MwObNAuB6F6xGzsUAAAAAAQG2xQFyPwvXoTLFA4XoUrkfvsECPwvUoHNewQM3MzMyMkbBAUrgehStysEDhehSuhxKwQFK4HoVr2q9AH4XrUbjRr0CamZmZmc6vQDMzMzOzuK9ACtejcD1zr0A=",
                    "dtype": "f8"
                  },
                  "xaxis": "x",
                  "y": {
                    "bdata": "AAAAAAAAAAAAAAAAAAAAAM3MzMzMzAhAAAAAAAAAAAAAAAAAAAAAAM3MzMzMzAxAAAAAAAAA8D8AAAAAAAAAAAAAAAAAAAAAAAAAAAAAAAAAAAAAAAAAAAAAAAAAAAAAAAAAAAAAAAAAAAAAAAAAAAAAAAAAAAAAMzMzMzMzB0A=",
                    "dtype": "f8"
                  },
                  "yaxis": "y"
                },
                {
                  "customdata": [
                    [
                      "https://amazon.com/dp/B0FF4L834M"
                    ],
                    [
                      "https://amazon.com/dp/B0F7HG117L"
                    ],
                    [
                      "https://amazon.com/dp/B0F7X99VXB"
                    ],
                    [
                      "https://amazon.com/dp/B0FGPJM4XP"
                    ],
                    [
                      "https://amazon.com/dp/B0FGYHS6FN"
                    ],
                    [
                      "https://amazon.com/dp/B0F2YJLQ6C"
                    ],
                    [
                      "https://amazon.com/dp/B0DK1PCHB6"
                    ],
                    [
                      "https://amazon.com/dp/B0F6CBDY5B"
                    ],
                    [
                      "https://amazon.com/dp/B0DCS84W79"
                    ],
                    [
                      "https://amazon.com/dp/B0F6K8LJJ6"
                    ],
                    [
                      "https://amazon.com/dp/B0CXB18CQM"
                    ],
                    [
                      "https://amazon.com/dp/B0F62T4FSS"
                    ],
                    [
                      "https://amazon.com/dp/B0DSKDRKSR"
                    ],
                    [
                      "https://amazon.com/dp/1430085312"
                    ],
                    [
                      "https://amazon.com/dp/B0FJ1B1KLV"
                    ],
                    [
                      "https://amazon.com/dp/B0F8H6B2WN"
                    ],
                    [
                      "https://amazon.com/dp/B0FFJMXDR7"
                    ],
                    [
                      "https://amazon.com/dp/B0FDJPM3BV"
                    ],
                    [
                      "https://amazon.com/dp/B0DPG2N1VH"
                    ],
                    [
                      "https://amazon.com/dp/B0F9WS8FRM"
                    ],
                    [
                      "https://amazon.com/dp/B0F4XFFGD7"
                    ],
                    [
                      "https://amazon.com/dp/B0FDGZKGDN"
                    ],
                    [
                      "https://amazon.com/dp/B0FCSQN3GB"
                    ],
                    [
                      "https://amazon.com/dp/B0DG5MJDDB"
                    ],
                    [
                      "https://amazon.com/dp/B0D5QMTSG4"
                    ],
                    [
                      "https://amazon.com/dp/B0F577MQC3"
                    ],
                    [
                      "https://amazon.com/dp/B0F6MF8R2Q"
                    ],
                    [
                      "https://amazon.com/dp/B0DHWZCKKK"
                    ],
                    [
                      "https://amazon.com/dp/B0FJLVNGGN"
                    ],
                    [
                      "https://amazon.com/dp/B0FCW68T72"
                    ],
                    [
                      "https://amazon.com/dp/B0D9XW4GNX"
                    ],
                    [
                      "https://amazon.com/dp/B0F3WSKMTJ"
                    ],
                    [
                      "https://amazon.com/dp/B0DK9DJ74G"
                    ],
                    [
                      "https://amazon.com/dp/B0F1YMDZVM"
                    ],
                    [
                      "https://amazon.com/dp/B0DF654LW8"
                    ],
                    [
                      "https://amazon.com/dp/B0DQ8Q416S"
                    ],
                    [
                      "https://amazon.com/dp/B0CZTXGSFD"
                    ],
                    [
                      "https://amazon.com/dp/B0FHJ852WJ"
                    ],
                    [
                      "https://amazon.com/dp/B0F6LHTCQ3"
                    ],
                    [
                      "https://amazon.com/dp/B0DH5HFPNV"
                    ],
                    [
                      "https://amazon.com/dp/B0DC4LFX5G"
                    ],
                    [
                      "https://amazon.com/dp/B0F752DRF8"
                    ],
                    [
                      "https://amazon.com/dp/B0F21XQ2W4"
                    ]
                  ],
                  "hovertemplate": "<b>%{hovertext}</b><br><br>Fulfillment=FBA<br>ASIN Revenue=%{x}<br>Reviews Rating=%{y}<br>Review Count=%{marker.size}<extra></extra>",
                  "hovertext": [
                    "https://amazon.com/dp/B0FF4L834M",
                    "https://amazon.com/dp/B0F7HG117L",
                    "https://amazon.com/dp/B0F7X99VXB",
                    "https://amazon.com/dp/B0FGPJM4XP",
                    "https://amazon.com/dp/B0FGYHS6FN",
                    "https://amazon.com/dp/B0F2YJLQ6C",
                    "https://amazon.com/dp/B0DK1PCHB6",
                    "https://amazon.com/dp/B0F6CBDY5B",
                    "https://amazon.com/dp/B0DCS84W79",
                    "https://amazon.com/dp/B0F6K8LJJ6",
                    "https://amazon.com/dp/B0CXB18CQM",
                    "https://amazon.com/dp/B0F62T4FSS",
                    "https://amazon.com/dp/B0DSKDRKSR",
                    "https://amazon.com/dp/1430085312",
                    "https://amazon.com/dp/B0FJ1B1KLV",
                    "https://amazon.com/dp/B0F8H6B2WN",
                    "https://amazon.com/dp/B0FFJMXDR7",
                    "https://amazon.com/dp/B0FDJPM3BV",
                    "https://amazon.com/dp/B0DPG2N1VH",
                    "https://amazon.com/dp/B0F9WS8FRM",
                    "https://amazon.com/dp/B0F4XFFGD7",
                    "https://amazon.com/dp/B0FDGZKGDN",
                    "https://amazon.com/dp/B0FCSQN3GB",
                    "https://amazon.com/dp/B0DG5MJDDB",
                    "https://amazon.com/dp/B0D5QMTSG4",
                    "https://amazon.com/dp/B0F577MQC3",
                    "https://amazon.com/dp/B0F6MF8R2Q",
                    "https://amazon.com/dp/B0DHWZCKKK",
                    "https://amazon.com/dp/B0FJLVNGGN",
                    "https://amazon.com/dp/B0FCW68T72",
                    "https://amazon.com/dp/B0D9XW4GNX",
                    "https://amazon.com/dp/B0F3WSKMTJ",
                    "https://amazon.com/dp/B0DK9DJ74G",
                    "https://amazon.com/dp/B0F1YMDZVM",
                    "https://amazon.com/dp/B0DF654LW8",
                    "https://amazon.com/dp/B0DQ8Q416S",
                    "https://amazon.com/dp/B0CZTXGSFD",
                    "https://amazon.com/dp/B0FHJ852WJ",
                    "https://amazon.com/dp/B0F6LHTCQ3",
                    "https://amazon.com/dp/B0DH5HFPNV",
                    "https://amazon.com/dp/B0DC4LFX5G",
                    "https://amazon.com/dp/B0F752DRF8",
                    "https://amazon.com/dp/B0F21XQ2W4"
                  ],
                  "legendgroup": "FBA",
                  "marker": {
                    "color": "#19D3F3",
                    "size": {
                      "bdata": "BgBFAAQABgABABUACwAQADgAIAAAAB8AMQAAAAwAFgACAAMABwALAA4AAQAEAD0ASwAAAAMAVgAAAAMAgwAbABsACAAzAAoAAAADAAYA5wADAAgADAA=",
                      "dtype": "i2"
                    },
                    "sizemode": "area",
                    "sizeref": 0.5775,
                    "symbol": "circle"
                  },
                  "mode": "markers",
                  "name": "FBA",
                  "orientation": "v",
                  "showlegend": true,
                  "type": "scatter",
                  "x": {
                    "bdata": "uB6F69GXtkBSuB6F6ze1QMP1KFxPUrNAPQrXo/AsskCF61G4Xh+yQMP1KFxPl7FAmpmZmRmTsUDNzMzMTIyxQMP1KFxPfLFAcT0K16N1sUDD9ShcT0SxQFK4HoXrKbFAcT0K1yMisUBI4XoUrhmxQLgehesRGbFAXI/C9SgFsUAK16Nw/fewQFK4HoVr3LBAuB6F61GwsEApXI/CNaywQD0K16Mwd7BACtejcP1ssECF61G43mmwQKRwPQpXZrBAcT0K16NisEDsUbgeBVGwQNejcD0KQ7BAuB6F6xE8sEAK16NwfTawQI/C9SgcKrBA7FG4HsUcsEDD9ShcDxmwQFK4HoVrFrBAzczMzEwVsEAK16Nw/QOwQIXrUbie/a9AzczMzMyZr0BI4XoUroWvQPYoXI/Ceq9A7FG4HgV3r0AfhetROHSvQMP1KFyPRa9A16NwPQpFr0A=",
                    "dtype": "f8"
                  },
                  "xaxis": "x",
                  "y": {
                    "bdata": "zczMzMzMAEAAAAAAAAAIQDMzMzMzMwdAAAAAAAAA8D8AAAAAAADwP5qZmZmZmQ1AzczMzMzMCECamZmZmZkNQJqZmZmZmQ1AmpmZmZmZDUAAAAAAAAAAAJqZmZmZmQ1AAAAAAAAADEAAAAAAAAAAADMzMzMzMwNAAAAAAAAADEAAAAAAAAAIQAAAAAAAAARAAAAAAAAADEBmZmZmZmb+P83MzMzMzAhAAAAAAAAAAEAAAAAAAAAIQDMzMzMzMwtAmpmZmZmZDUAAAAAAAAAAAGZmZmZmZgpAmpmZmZmZDUAAAAAAAAAAAAAAAAAAAAxAAAAAAAAADECamZmZmZkNQJqZmZmZmQVAmpmZmZmZDUDNzMzMzMwMQGZmZmZmZgJAAAAAAAAAAAAAAAAAAAAMQJqZmZmZmQ1AmpmZmZmZCUCamZmZmZkNQM3MzMzMzAhAZmZmZmZmCkA=",
                    "dtype": "f8"
                  },
                  "yaxis": "y"
                },
                {
                  "customdata": [
                    [
                      "https://amazon.com/dp/B0DL4VSBCG"
                    ],
                    [
                      "https://amazon.com/dp/B0D9TZLYH6"
                    ],
                    [
                      "https://amazon.com/dp/B0FJFWCSRJ"
                    ],
                    [
                      "https://amazon.com/dp/B0DL4Z22FJ"
                    ],
                    [
                      "https://amazon.com/dp/B0DFXHD3JD"
                    ],
                    [
                      "https://amazon.com/dp/B0DRGM3CGT"
                    ],
                    [
                      "https://amazon.com/dp/B0DGWGDPZD"
                    ]
                  ],
                  "hovertemplate": "<b>%{hovertext}</b><br><br>Fulfillment=FBM<br>ASIN Revenue=%{x}<br>Reviews Rating=%{y}<br>Review Count=%{marker.size}<extra></extra>",
                  "hovertext": [
                    "https://amazon.com/dp/B0DL4VSBCG",
                    "https://amazon.com/dp/B0D9TZLYH6",
                    "https://amazon.com/dp/B0FJFWCSRJ",
                    "https://amazon.com/dp/B0DL4Z22FJ",
                    "https://amazon.com/dp/B0DFXHD3JD",
                    "https://amazon.com/dp/B0DRGM3CGT",
                    "https://amazon.com/dp/B0DGWGDPZD"
                  ],
                  "legendgroup": "FBM",
                  "marker": {
                    "color": "#FF6692",
                    "size": {
                      "bdata": "AAAAAAULAQ==",
                      "dtype": "i1"
                    },
                    "sizemode": "area",
                    "sizeref": 0.5775,
                    "symbol": "circle"
                  },
                  "mode": "markers",
                  "name": "FBM",
                  "orientation": "v",
                  "showlegend": true,
                  "type": "scatter",
                  "x": {
                    "bdata": "pHA9CheztkCF61G4Xk20QKRwPQqXY7FA7FG4HkX8sEDD9Shcz9mwQKRwPQoX1LBACtejcP0rsEA=",
                    "dtype": "f8"
                  },
                  "xaxis": "x",
                  "y": {
                    "bdata": "AAAAAAAAAAAAAAAAAAAAAAAAAAAAAAAAAAAAAAAAAACamZmZmZkFQJqZmZmZmQ1AAAAAAAAA8D8=",
                    "dtype": "f8"
                  },
                  "yaxis": "y"
                }
              ],
              "layout": {
                "hovermode": "closest",
                "legend": {
                  "itemsizing": "constant",
                  "title": {
                    "text": "Fulfillment"
                  },
                  "tracegroupgap": 0
                },
                "margin": {
                  "t": 60
                },
                "newshape": {
                  "line": {
                    "color": "black",
                    "width": 2
                  }
                },
                "template": {
                  "data": {
                    "bar": [
                      {
                        "error_x": {
                          "color": "#2a3f5f"
                        },
                        "error_y": {
                          "color": "#2a3f5f"
                        },
                        "marker": {
                          "line": {
                            "color": "#E5ECF6",
                            "width": 0.5
                          },
                          "pattern": {
                            "fillmode": "overlay",
                            "size": 10,
                            "solidity": 0.2
                          }
                        },
                        "type": "bar"
                      }
                    ],
                    "barpolar": [
                      {
                        "marker": {
                          "line": {
                            "color": "#E5ECF6",
                            "width": 0.5
                          },
                          "pattern": {
                            "fillmode": "overlay",
                            "size": 10,
                            "solidity": 0.2
                          }
                        },
                        "type": "barpolar"
                      }
                    ],
                    "carpet": [
                      {
                        "aaxis": {
                          "endlinecolor": "#2a3f5f",
                          "gridcolor": "white",
                          "linecolor": "white",
                          "minorgridcolor": "white",
                          "startlinecolor": "#2a3f5f"
                        },
                        "baxis": {
                          "endlinecolor": "#2a3f5f",
                          "gridcolor": "white",
                          "linecolor": "white",
                          "minorgridcolor": "white",
                          "startlinecolor": "#2a3f5f"
                        },
                        "type": "carpet"
                      }
                    ],
                    "choropleth": [
                      {
                        "colorbar": {
                          "outlinewidth": 0,
                          "ticks": ""
                        },
                        "type": "choropleth"
                      }
                    ],
                    "contour": [
                      {
                        "colorbar": {
                          "outlinewidth": 0,
                          "ticks": ""
                        },
                        "colorscale": [
                          [
                            0,
                            "#0d0887"
                          ],
                          [
                            0.1111111111111111,
                            "#46039f"
                          ],
                          [
                            0.2222222222222222,
                            "#7201a8"
                          ],
                          [
                            0.3333333333333333,
                            "#9c179e"
                          ],
                          [
                            0.4444444444444444,
                            "#bd3786"
                          ],
                          [
                            0.5555555555555556,
                            "#d8576b"
                          ],
                          [
                            0.6666666666666666,
                            "#ed7953"
                          ],
                          [
                            0.7777777777777778,
                            "#fb9f3a"
                          ],
                          [
                            0.8888888888888888,
                            "#fdca26"
                          ],
                          [
                            1,
                            "#f0f921"
                          ]
                        ],
                        "type": "contour"
                      }
                    ],
                    "contourcarpet": [
                      {
                        "colorbar": {
                          "outlinewidth": 0,
                          "ticks": ""
                        },
                        "type": "contourcarpet"
                      }
                    ],
                    "heatmap": [
                      {
                        "colorbar": {
                          "outlinewidth": 0,
                          "ticks": ""
                        },
                        "colorscale": [
                          [
                            0,
                            "#0d0887"
                          ],
                          [
                            0.1111111111111111,
                            "#46039f"
                          ],
                          [
                            0.2222222222222222,
                            "#7201a8"
                          ],
                          [
                            0.3333333333333333,
                            "#9c179e"
                          ],
                          [
                            0.4444444444444444,
                            "#bd3786"
                          ],
                          [
                            0.5555555555555556,
                            "#d8576b"
                          ],
                          [
                            0.6666666666666666,
                            "#ed7953"
                          ],
                          [
                            0.7777777777777778,
                            "#fb9f3a"
                          ],
                          [
                            0.8888888888888888,
                            "#fdca26"
                          ],
                          [
                            1,
                            "#f0f921"
                          ]
                        ],
                        "type": "heatmap"
                      }
                    ],
                    "histogram": [
                      {
                        "marker": {
                          "pattern": {
                            "fillmode": "overlay",
                            "size": 10,
                            "solidity": 0.2
                          }
                        },
                        "type": "histogram"
                      }
                    ],
                    "histogram2d": [
                      {
                        "colorbar": {
                          "outlinewidth": 0,
                          "ticks": ""
                        },
                        "colorscale": [
                          [
                            0,
                            "#0d0887"
                          ],
                          [
                            0.1111111111111111,
                            "#46039f"
                          ],
                          [
                            0.2222222222222222,
                            "#7201a8"
                          ],
                          [
                            0.3333333333333333,
                            "#9c179e"
                          ],
                          [
                            0.4444444444444444,
                            "#bd3786"
                          ],
                          [
                            0.5555555555555556,
                            "#d8576b"
                          ],
                          [
                            0.6666666666666666,
                            "#ed7953"
                          ],
                          [
                            0.7777777777777778,
                            "#fb9f3a"
                          ],
                          [
                            0.8888888888888888,
                            "#fdca26"
                          ],
                          [
                            1,
                            "#f0f921"
                          ]
                        ],
                        "type": "histogram2d"
                      }
                    ],
                    "histogram2dcontour": [
                      {
                        "colorbar": {
                          "outlinewidth": 0,
                          "ticks": ""
                        },
                        "colorscale": [
                          [
                            0,
                            "#0d0887"
                          ],
                          [
                            0.1111111111111111,
                            "#46039f"
                          ],
                          [
                            0.2222222222222222,
                            "#7201a8"
                          ],
                          [
                            0.3333333333333333,
                            "#9c179e"
                          ],
                          [
                            0.4444444444444444,
                            "#bd3786"
                          ],
                          [
                            0.5555555555555556,
                            "#d8576b"
                          ],
                          [
                            0.6666666666666666,
                            "#ed7953"
                          ],
                          [
                            0.7777777777777778,
                            "#fb9f3a"
                          ],
                          [
                            0.8888888888888888,
                            "#fdca26"
                          ],
                          [
                            1,
                            "#f0f921"
                          ]
                        ],
                        "type": "histogram2dcontour"
                      }
                    ],
                    "mesh3d": [
                      {
                        "colorbar": {
                          "outlinewidth": 0,
                          "ticks": ""
                        },
                        "type": "mesh3d"
                      }
                    ],
                    "parcoords": [
                      {
                        "line": {
                          "colorbar": {
                            "outlinewidth": 0,
                            "ticks": ""
                          }
                        },
                        "type": "parcoords"
                      }
                    ],
                    "pie": [
                      {
                        "automargin": true,
                        "type": "pie"
                      }
                    ],
                    "scatter": [
                      {
                        "fillpattern": {
                          "fillmode": "overlay",
                          "size": 10,
                          "solidity": 0.2
                        },
                        "type": "scatter"
                      }
                    ],
                    "scatter3d": [
                      {
                        "line": {
                          "colorbar": {
                            "outlinewidth": 0,
                            "ticks": ""
                          }
                        },
                        "marker": {
                          "colorbar": {
                            "outlinewidth": 0,
                            "ticks": ""
                          }
                        },
                        "type": "scatter3d"
                      }
                    ],
                    "scattercarpet": [
                      {
                        "marker": {
                          "colorbar": {
                            "outlinewidth": 0,
                            "ticks": ""
                          }
                        },
                        "type": "scattercarpet"
                      }
                    ],
                    "scattergeo": [
                      {
                        "marker": {
                          "colorbar": {
                            "outlinewidth": 0,
                            "ticks": ""
                          }
                        },
                        "type": "scattergeo"
                      }
                    ],
                    "scattergl": [
                      {
                        "marker": {
                          "colorbar": {
                            "outlinewidth": 0,
                            "ticks": ""
                          }
                        },
                        "type": "scattergl"
                      }
                    ],
                    "scattermap": [
                      {
                        "marker": {
                          "colorbar": {
                            "outlinewidth": 0,
                            "ticks": ""
                          }
                        },
                        "type": "scattermap"
                      }
                    ],
                    "scattermapbox": [
                      {
                        "marker": {
                          "colorbar": {
                            "outlinewidth": 0,
                            "ticks": ""
                          }
                        },
                        "type": "scattermapbox"
                      }
                    ],
                    "scatterpolar": [
                      {
                        "marker": {
                          "colorbar": {
                            "outlinewidth": 0,
                            "ticks": ""
                          }
                        },
                        "type": "scatterpolar"
                      }
                    ],
                    "scatterpolargl": [
                      {
                        "marker": {
                          "colorbar": {
                            "outlinewidth": 0,
                            "ticks": ""
                          }
                        },
                        "type": "scatterpolargl"
                      }
                    ],
                    "scatterternary": [
                      {
                        "marker": {
                          "colorbar": {
                            "outlinewidth": 0,
                            "ticks": ""
                          }
                        },
                        "type": "scatterternary"
                      }
                    ],
                    "surface": [
                      {
                        "colorbar": {
                          "outlinewidth": 0,
                          "ticks": ""
                        },
                        "colorscale": [
                          [
                            0,
                            "#0d0887"
                          ],
                          [
                            0.1111111111111111,
                            "#46039f"
                          ],
                          [
                            0.2222222222222222,
                            "#7201a8"
                          ],
                          [
                            0.3333333333333333,
                            "#9c179e"
                          ],
                          [
                            0.4444444444444444,
                            "#bd3786"
                          ],
                          [
                            0.5555555555555556,
                            "#d8576b"
                          ],
                          [
                            0.6666666666666666,
                            "#ed7953"
                          ],
                          [
                            0.7777777777777778,
                            "#fb9f3a"
                          ],
                          [
                            0.8888888888888888,
                            "#fdca26"
                          ],
                          [
                            1,
                            "#f0f921"
                          ]
                        ],
                        "type": "surface"
                      }
                    ],
                    "table": [
                      {
                        "cells": {
                          "fill": {
                            "color": "#EBF0F8"
                          },
                          "line": {
                            "color": "white"
                          }
                        },
                        "header": {
                          "fill": {
                            "color": "#C8D4E3"
                          },
                          "line": {
                            "color": "white"
                          }
                        },
                        "type": "table"
                      }
                    ]
                  },
                  "layout": {
                    "annotationdefaults": {
                      "arrowcolor": "#2a3f5f",
                      "arrowhead": 0,
                      "arrowwidth": 1
                    },
                    "autotypenumbers": "strict",
                    "coloraxis": {
                      "colorbar": {
                        "outlinewidth": 0,
                        "ticks": ""
                      }
                    },
                    "colorscale": {
                      "diverging": [
                        [
                          0,
                          "#8e0152"
                        ],
                        [
                          0.1,
                          "#c51b7d"
                        ],
                        [
                          0.2,
                          "#de77ae"
                        ],
                        [
                          0.3,
                          "#f1b6da"
                        ],
                        [
                          0.4,
                          "#fde0ef"
                        ],
                        [
                          0.5,
                          "#f7f7f7"
                        ],
                        [
                          0.6,
                          "#e6f5d0"
                        ],
                        [
                          0.7,
                          "#b8e186"
                        ],
                        [
                          0.8,
                          "#7fbc41"
                        ],
                        [
                          0.9,
                          "#4d9221"
                        ],
                        [
                          1,
                          "#276419"
                        ]
                      ],
                      "sequential": [
                        [
                          0,
                          "#0d0887"
                        ],
                        [
                          0.1111111111111111,
                          "#46039f"
                        ],
                        [
                          0.2222222222222222,
                          "#7201a8"
                        ],
                        [
                          0.3333333333333333,
                          "#9c179e"
                        ],
                        [
                          0.4444444444444444,
                          "#bd3786"
                        ],
                        [
                          0.5555555555555556,
                          "#d8576b"
                        ],
                        [
                          0.6666666666666666,
                          "#ed7953"
                        ],
                        [
                          0.7777777777777778,
                          "#fb9f3a"
                        ],
                        [
                          0.8888888888888888,
                          "#fdca26"
                        ],
                        [
                          1,
                          "#f0f921"
                        ]
                      ],
                      "sequentialminus": [
                        [
                          0,
                          "#0d0887"
                        ],
                        [
                          0.1111111111111111,
                          "#46039f"
                        ],
                        [
                          0.2222222222222222,
                          "#7201a8"
                        ],
                        [
                          0.3333333333333333,
                          "#9c179e"
                        ],
                        [
                          0.4444444444444444,
                          "#bd3786"
                        ],
                        [
                          0.5555555555555556,
                          "#d8576b"
                        ],
                        [
                          0.6666666666666666,
                          "#ed7953"
                        ],
                        [
                          0.7777777777777778,
                          "#fb9f3a"
                        ],
                        [
                          0.8888888888888888,
                          "#fdca26"
                        ],
                        [
                          1,
                          "#f0f921"
                        ]
                      ]
                    },
                    "colorway": [
                      "#636efa",
                      "#EF553B",
                      "#00cc96",
                      "#ab63fa",
                      "#FFA15A",
                      "#19d3f3",
                      "#FF6692",
                      "#B6E880",
                      "#FF97FF",
                      "#FECB52"
                    ],
                    "font": {
                      "color": "#2a3f5f"
                    },
                    "geo": {
                      "bgcolor": "white",
                      "lakecolor": "white",
                      "landcolor": "#E5ECF6",
                      "showlakes": true,
                      "showland": true,
                      "subunitcolor": "white"
                    },
                    "hoverlabel": {
                      "align": "left"
                    },
                    "hovermode": "closest",
                    "mapbox": {
                      "style": "light"
                    },
                    "paper_bgcolor": "white",
                    "plot_bgcolor": "#E5ECF6",
                    "polar": {
                      "angularaxis": {
                        "gridcolor": "white",
                        "linecolor": "white",
                        "ticks": ""
                      },
                      "bgcolor": "#E5ECF6",
                      "radialaxis": {
                        "gridcolor": "white",
                        "linecolor": "white",
                        "ticks": ""
                      }
                    },
                    "scene": {
                      "xaxis": {
                        "backgroundcolor": "#E5ECF6",
                        "gridcolor": "white",
                        "gridwidth": 2,
                        "linecolor": "white",
                        "showbackground": true,
                        "ticks": "",
                        "zerolinecolor": "white"
                      },
                      "yaxis": {
                        "backgroundcolor": "#E5ECF6",
                        "gridcolor": "white",
                        "gridwidth": 2,
                        "linecolor": "white",
                        "showbackground": true,
                        "ticks": "",
                        "zerolinecolor": "white"
                      },
                      "zaxis": {
                        "backgroundcolor": "#E5ECF6",
                        "gridcolor": "white",
                        "gridwidth": 2,
                        "linecolor": "white",
                        "showbackground": true,
                        "ticks": "",
                        "zerolinecolor": "white"
                      }
                    },
                    "shapedefaults": {
                      "line": {
                        "color": "#2a3f5f"
                      }
                    },
                    "ternary": {
                      "aaxis": {
                        "gridcolor": "white",
                        "linecolor": "white",
                        "ticks": ""
                      },
                      "baxis": {
                        "gridcolor": "white",
                        "linecolor": "white",
                        "ticks": ""
                      },
                      "bgcolor": "#E5ECF6",
                      "caxis": {
                        "gridcolor": "white",
                        "linecolor": "white",
                        "ticks": ""
                      }
                    },
                    "title": {
                      "x": 0.05
                    },
                    "xaxis": {
                      "automargin": true,
                      "gridcolor": "white",
                      "linecolor": "white",
                      "ticks": "",
                      "title": {
                        "standoff": 15
                      },
                      "zerolinecolor": "white",
                      "zerolinewidth": 2
                    },
                    "yaxis": {
                      "automargin": true,
                      "gridcolor": "white",
                      "linecolor": "white",
                      "ticks": "",
                      "title": {
                        "standoff": 15
                      },
                      "zerolinecolor": "white",
                      "zerolinewidth": 2
                    }
                  }
                },
                "title": {
                  "text": "ASIN Revenue vs Review Count (FILTRADA)"
                },
                "xaxis": {
                  "anchor": "y",
                  "domain": [
                    0,
                    1
                  ],
                  "title": {
                    "text": "ASIN Revenue"
                  }
                },
                "yaxis": {
                  "anchor": "x",
                  "domain": [
                    0,
                    1
                  ],
                  "title": {
                    "text": "Reviews Rating"
                  }
                }
              }
            }
          },
          "metadata": {},
          "output_type": "display_data"
        }
      ],
      "source": [
        "# @title ASIN Revenue vs Review Count (FILTRADA)\n",
        "\n",
        "# Para mostrar la grafica de dispersión con los productos filtrados\n",
        "\n",
        "fig = px.scatter(df_filtrado, x='ASIN Revenue', y='Reviews Rating', size='Review Count', color='Fulfillment', hover_name='URL',\n",
        "                 color_discrete_map={'Amazon': '#FFA15A', 'FBA': '#19D3F3', 'FBM':'#FF6692'},\n",
        "                 category_orders={'Fulfillment': ['Amazon', 'FBA', 'FBM']},\n",
        "                 custom_data=['URL'])\n",
        "\n",
        "fig.update_layout(\n",
        "    title='ASIN Revenue vs Review Count (FILTRADA)',\n",
        "    hovermode='closest',\n",
        "    newshape=dict(line_color='black', line_width=2),\n",
        ")\n",
        "\n",
        "fig.show()"
      ]
    }
  ],
  "metadata": {
    "colab": {
      "collapsed_sections": [
        "mrb8vVUyFK9Z",
        "NEZXagFaHu2j",
        "0iIfHhaRNZEQ"
      ],
      "provenance": []
    },
    "kernelspec": {
      "display_name": "blackbox",
      "language": "python",
      "name": "python3"
    },
    "language_info": {
      "codemirror_mode": {
        "name": "ipython",
        "version": 3
      },
      "file_extension": ".py",
      "mimetype": "text/x-python",
      "name": "python",
      "nbconvert_exporter": "python",
      "pygments_lexer": "ipython3",
      "version": "3.12.3"
    }
  },
  "nbformat": 4,
  "nbformat_minor": 0
}
